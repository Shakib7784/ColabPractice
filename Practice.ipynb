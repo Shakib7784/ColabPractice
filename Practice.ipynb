{
  "nbformat": 4,
  "nbformat_minor": 0,
  "metadata": {
    "colab": {
      "provenance": [],
      "authorship_tag": "ABX9TyMqkREcArdiXu95nsYZ/zDr",
      "include_colab_link": true
    },
    "kernelspec": {
      "name": "python3",
      "display_name": "Python 3"
    },
    "language_info": {
      "name": "python"
    }
  },
  "cells": [
    {
      "cell_type": "markdown",
      "metadata": {
        "id": "view-in-github",
        "colab_type": "text"
      },
      "source": [
        "<a href=\"https://colab.research.google.com/github/Shakib7784/ColabPractice/blob/main/Practice.ipynb\" target=\"_parent\"><img src=\"https://colab.research.google.com/assets/colab-badge.svg\" alt=\"Open In Colab\"/></a>"
      ]
    },
    {
      "cell_type": "code",
      "source": [],
      "metadata": {
        "id": "5CC3oI7AkA3s"
      },
      "execution_count": null,
      "outputs": []
    },
    {
      "cell_type": "code",
      "source": [
        "# Step 1: Install & import dependencies\n",
        "import pandas as pd\n",
        "from sklearn.feature_extraction.text import TfidfVectorizer\n",
        "from sklearn.metrics.pairwise import cosine_similarity\n",
        "\n",
        "# Step 2: Sample dataset of academic paper abstracts\n",
        "data = {\n",
        "    'title': [\n",
        "        'Deep Learning for NLP',\n",
        "        'Machine Learning Applications in Education',\n",
        "        'Natural Language Processing with Transformers',\n",
        "        'Education Technology and AI',\n",
        "        'Quantum Computing Basics'\n",
        "    ],\n",
        "    'abstract': [\n",
        "        'This paper explores deep learning models in natural language processing tasks.',\n",
        "        'Applications of ML in classroom environments and personalized learning.',\n",
        "        'Using transformer models like BERT for advanced NLP tasks.',\n",
        "        'AI-driven educational platforms and analytics tools in modern classrooms.',\n",
        "        'Introduction to the concepts and applications of quantum computing.'\n",
        "    ]\n",
        "}\n",
        "\n",
        "df = pd.DataFrame(data)\n",
        "\n",
        "# Step 3: Combine title and abstract\n",
        "df['content'] = df['title'] + ' ' + df['abstract']\n",
        "\n",
        "# Step 4: Vectorize using TF-IDF\n",
        "vectorizer = TfidfVectorizer(stop_words='english')\n",
        "tfidf_matrix = vectorizer.fit_transform(df['content'])\n",
        "\n",
        "# Step 5: Compute cosine similarity\n",
        "cosine_sim = cosine_similarity(tfidf_matrix, tfidf_matrix)\n",
        "\n",
        "# Step 6: Recommendation function\n",
        "def recommend(title, top_n=3):\n",
        "    idx = df[df['title'] == title].index[0]\n",
        "    sim_scores = list(enumerate(cosine_sim[idx]))\n",
        "    sim_scores = sorted(sim_scores, key=lambda x: x[1], reverse=True)\n",
        "    sim_scores = sim_scores[1:top_n+1]\n",
        "    recommended_titles = [df['title'][i[0]] for i in sim_scores]\n",
        "    return recommended_titles\n",
        "\n",
        "# Step 7: Try it!\n",
        "paper = 'Deep Learning for NLP'\n",
        "print(f\"📚 Recommendations for: {paper}\")\n",
        "for rec in recommend(paper):\n",
        "    print(\"➡️\", rec)\n"
      ],
      "metadata": {
        "colab": {
          "base_uri": "https://localhost:8080/"
        },
        "id": "86DHWOwnlDu9",
        "outputId": "ff81ac56-2a5d-4dba-fb2c-6a81300711a1"
      },
      "execution_count": 1,
      "outputs": [
        {
          "output_type": "stream",
          "name": "stdout",
          "text": [
            "📚 Recommendations for: Deep Learning for NLP\n",
            "➡️ Natural Language Processing with Transformers\n",
            "➡️ Machine Learning Applications in Education\n",
            "➡️ Education Technology and AI\n"
          ]
        }
      ]
    },
    {
      "cell_type": "code",
      "source": [],
      "metadata": {
        "id": "11KuguFwlEQe"
      },
      "execution_count": null,
      "outputs": []
    },
    {
      "cell_type": "code",
      "execution_count": null,
      "metadata": {
        "id": "mDf0AYB6jphD"
      },
      "outputs": [],
      "source": []
    },
    {
      "cell_type": "markdown",
      "source": [],
      "metadata": {
        "id": "Uc6TM02alCYA"
      }
    }
  ]
}